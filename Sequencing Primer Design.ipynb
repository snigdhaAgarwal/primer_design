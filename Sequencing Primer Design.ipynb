{
 "cells": [
  {
   "cell_type": "code",
   "execution_count": 1,
   "metadata": {
    "collapsed": true
   },
   "outputs": [],
   "source": [
    "import argparse\n",
    "import requests\n",
    "import logging\n",
    "\n",
    "from Bio.SeqFeature import SeqFeature\n",
    "from Bio.SeqFeature import FeatureLocation\n",
    "from Bio.SeqRecord import SeqRecord\n",
    "from Bio.Seq import Seq\n",
    "from Bio.Alphabet.IUPAC import IUPACUnambiguousDNA\n",
    "\n",
    "import pandas as pd\n",
    "import numpy as np\n",
    "from difflib import SequenceMatcher\n",
    "\n",
    "log = logging.getLogger(__name__)\n",
    "logging.basicConfig(level=logging.INFO)"
   ]
  },
  {
   "cell_type": "code",
   "execution_count": 2,
   "metadata": {
    "collapsed": true
   },
   "outputs": [],
   "source": [
    "def fetch_ensembl_transcript(ensembl_transcript_id, exon_annot = False):\n",
    "    \"\"\"Fetch the requested Ensembl transcript.\n",
    "    Get the requested Ensembl transcript, together with exon and\n",
    "    coding region (CDS) boundaries.\n",
    "    Parameters\n",
    "    ----------\n",
    "    ensembl_transcript_id : str\n",
    "      the ensembl transcript id, of the form ENST...\n",
    "    \n",
    "    Returns\n",
    "    -------\n",
    "    `Bio.SeqRecord`\n",
    "      The requested transcript sequence, in 5' -> 3' order, together\n",
    "      with exon and CDS features. The coordinates of exons and CDS\n",
    "      features are relative to the sequence fragment.\n",
    "    \"\"\"\n",
    "\n",
    "    # TODO: Validate ensembl_transcript_id is a valid transcript id\n",
    "    \n",
    "    base_url = \"http://rest.ensembl.org\"\n",
    "\n",
    "    # First, fetch the transcript sequence\n",
    "    url = base_url + f\"/sequence/id/{ensembl_transcript_id}\"\n",
    "\n",
    "    log.info(f\"Querying Ensembl for sequence of {ensembl_transcript_id}\")\n",
    "    response = requests.get(url, { \"type\": \"genomic\",\n",
    "                                   \"content-type\": \"application/json\" })\n",
    "\n",
    "    try:\n",
    "        response.raise_for_status()\n",
    "    except requests.HTTPError:\n",
    "        log.error(\"Ensembl sequence REST query returned error \"\n",
    "                  \"{}\".format(response.text))\n",
    "        raise ValueError(reponse.text)\n",
    "\n",
    "    response_data = response.json()\n",
    "    \n",
    "    try:\n",
    "        description = response_data['desc'].split(':')\n",
    "        species = description[1]\n",
    "        try:\n",
    "            chromosome_number = int(description[2])\n",
    "        except:\n",
    "            chromosome_number = str(description[2])\n",
    "        sequence_left = int(description[3])\n",
    "        sequence_right = int(description[4])\n",
    "        transcript_strand = int(description[5])\n",
    "\n",
    "        if sequence_left > sequence_right:\n",
    "            raise ValueError(f\"Expected left sequence boundary {sequence_left} \"\n",
    "                             f\"<= right sequence boundary {sequence_right}: did \"\n",
    "                             \"the format of the Ensembl REST response change?\")\n",
    "        \n",
    "        sequence_id = response_data['id']\n",
    "        \n",
    "        seq_str = response_data['seq']\n",
    "\n",
    "        log.info(f\"Retrieved sequence {response_data['desc']} of length \"\n",
    "                 f\"{sequence_right - sequence_left} for species {species} on \"\n",
    "                 f\"strand {transcript_strand}\")\n",
    "    except (KeyError, ValueError) as e:\n",
    "        log.error(e)\n",
    "        log.error('Error parsing sequence metadata from Ensembl REST response - '\n",
    "                  'did the format of the response change?')\n",
    "        raise ValueError(e)\n",
    "    \n",
    "    seq = Seq(seq_str, IUPACUnambiguousDNA())\n",
    "    \n",
    "    record = SeqRecord(seq, id=sequence_id,\n",
    "                       description=\":\".join(description))\n",
    "    if exon_annot:\n",
    "\n",
    "        url = base_url + f\"/overlap/id/{ensembl_transcript_id}\"\n",
    "\n",
    "        log.info(f\"Querying Ensembl for overlaps of {ensembl_transcript_id}\")\n",
    "        response = requests.get(url, { \"feature\": [\"cds\", \"exon\"],\n",
    "                                       \"content-type\": \"application/json\" })\n",
    "        try:\n",
    "            response.raise_for_status()\n",
    "        except requests.HTTPError:\n",
    "            log.error(\"Ensembl sequence REST query returned error \"\n",
    "                      \"{}\".format(response.text))\n",
    "            raise ValueError(reponse.text)\n",
    "\n",
    "        response_data = response.json()\n",
    "\n",
    "        try:\n",
    "            # Handle the unlikely event of a single piece of information\n",
    "            # overlapping a lonely transcript\n",
    "            if not hasattr(response_data, '__iter__'):\n",
    "                response_data = [response_data]\n",
    "\n",
    "            for response_datum in response_data:\n",
    "                if response_datum['Parent'] != ensembl_transcript_id:\n",
    "                    continue\n",
    "\n",
    "                if response_datum['assembly_name'] != species:\n",
    "                    continue\n",
    "\n",
    "                # We store feature locations 0-indexed from the left-most\n",
    "                # sequence boundary\n",
    "                record.features.append(SeqFeature(\n",
    "                    location=FeatureLocation(\n",
    "                        int(response_datum['start']) - sequence_left,\n",
    "                        int(response_datum['end']) - sequence_left + 1,\n",
    "                        strand=int(response_datum['strand'])),\n",
    "                    type=response_datum['feature_type']))\n",
    "            num_exon_boundaries = len([f for f in record.features\n",
    "                                       if f.type == 'exon'])\n",
    "\n",
    "            num_cds_boundaries = len([f for f in record.features\n",
    "                                      if f.type == 'cds'])\n",
    "\n",
    "            log.info(f\"Retrieved {num_exon_boundaries} exons and \"\n",
    "                     f\"{num_cds_boundaries} coding regions for transcript \"\n",
    "                     f\"{ensembl_transcript_id}\")\n",
    "        except (KeyError, ValueError) as e:\n",
    "            log.error(e)\n",
    "            log.error('Error parsing overlap metadata from Ensembl REST response - '\n",
    "                      'did the format of the response change?')\n",
    "            raise ValueError(e)\n",
    "\n",
    "    record.annotations['reference_species'] = species\n",
    "    record.annotations['reference_chromosome_number'] = chromosome_number\n",
    "    record.annotations['reference_left_index'] = sequence_left\n",
    "    record.annotations['reference_right_index'] = sequence_right\n",
    "    record.annotations['transcript_strand'] = transcript_strand\n",
    "\n",
    "    # Finally, sort features by their start locations\n",
    "    record.features.sort(key=lambda f: f.location.start)\n",
    "        \n",
    "    return record\n",
    "\n",
    "def fetch_gggenome_match(seq, genome='hg38', mismatches=0):\n",
    "    \"\"\"Returns matches from gggenome service. For example:\n",
    "    Parameters\n",
    "    ----------\n",
    "    genome : str\n",
    "        See https://gggenome.dbcls.jp/help.html\n",
    "    mismatches : int\n",
    "        Number of allowed mismatches or gaps. IMPORTANT:\n",
    "        `mismatches=4` causes timeouts on 20bp and\n",
    "        `mismatches=2` takes ~30s per 20bp request in testing.\n",
    "    strand : str\n",
    "        '+', '-', or '', indicating whether to search the reference\n",
    "        strand, the anti-reference strand, or both strands.\n",
    "    Returns\n",
    "    -------\n",
    "    `List[Dict]`\n",
    "        For example: ```\n",
    "            [{\n",
    "                \"align\": \"|||||| |||||| || || |||\",\n",
    "                \"del\": 0,\n",
    "                \"edit\": \"======I======I==X==X===\",\n",
    "                \"ins\": 2,\n",
    "                \"match\": 19,\n",
    "                \"mis\": 2,\n",
    "                \"name\": \"chr1\",\n",
    "                \"position\": 161696498,\n",
    "                \"position_end\": 161696518,\n",
    "                \"query\": \"TTCCGGCGCGCCGAGTCCTTAGG\",\n",
    "                \"sbjct\": \"TTCCGG-GCGCCG-GTGCTGAGG\",\n",
    "                \"snippet\": \"TGTGGGTCTGCAAGGAGCCCTCGCGGGAAGCAGGAAGGAGCGGGGTCGCGGAGCGGTGGACAAGCCGGCGCCGTTGCTCCCCGCCCTCTCCGTAGAGCTGTTCCGGGCGCCGGTGCTGAGGGTGATGGGTCCGCGGGAGGCCCGCGGCGCGGCGCTGGGTGGGGTGGTGCTGCGCTGCGACACGCGCCTGCACCCGCAGAAGCGCGACACGCCGCTGCAGT\",\n",
    "                \"snippet_end\": 161696618,\n",
    "                \"snippet_pos\": 161696398,\n",
    "                \"strand\": \"+\"\n",
    "            }]\n",
    "    ```\n",
    "    \"\"\"\n",
    "\n",
    "    url = 'http://gggenome.dbcls.jp/{}/{}/{}.json'.format(\n",
    "        genome, mismatches, seq)\n",
    "\n",
    "    log.info('Querying gggenome for offtargets')\n",
    "    response = requests.get(url)\n",
    "\n",
    "    try:\n",
    "        response.raise_for_status()\n",
    "    except requests.HTTPError:\n",
    "        log.error(f\"gggenome REST query returned error {response.text}\")\n",
    "        raise ValueError(response.text)\n",
    "        \n",
    "    data = response.json()\n",
    "\n",
    "    if data['error'] != 'none':\n",
    "        raise RuntimeError('gggenome error: \"{}\"'.format(data['error']))\n",
    "\n",
    "    return data['results']\n",
    "\n",
    "def fetch_ensembl_sequence(chromosome, region_left, region_right, expand = 200):\n",
    "    '''\n",
    "    Returns genome sequence based on chromosome range. The sequence is expanded by a flat amount on both the 5 and\n",
    "    3 termini. \n",
    "    '''\n",
    "    base_url = \"http://rest.ensembl.org\"\n",
    "    ext = f\"/sequence/region/human/{chromosome}:{region_left}..{region_right}:1?expand_5prime={expand};expand_3prime={expand}\"\n",
    "    r = requests.get(base_url + ext, headers = {\"Content-Type\":\"text/plain\"})\n",
    "    \n",
    "    if not r.ok:\n",
    "        r.raise_for_status()\n",
    "    \n",
    "    sequence = Seq(r.text, IUPACUnambiguousDNA())\n",
    "    return sequence\n",
    "\n",
    "def soft_match(ultramer, expanded_sequence):\n",
    "    '''\n",
    "    In situation where ultramer that aligns with expanded_sequence perfectly on one side, and \n",
    "    is expected to align with small mismatches on the other side, this function returns\n",
    "    the ultramer boundaries\n",
    "    '''\n",
    "    if expanded_sequence.find(ultramer[:16]) + 1:\n",
    "        leftend = expanded_sequence.find(ultramer[:16])\n",
    "        left_matches = SequenceMatcher(None, ultramer[-16:], expanded_sequence[leftend + 55:leftend+120]).get_matching_blocks()\n",
    "    elif expanded_sequence.find(ultramer.reverse_complement()[:16]) + 1:\n",
    "        leftend = expanded_sequence.find(ultramer.reverse_complement()[:16])\n",
    "        left_matches = SequenceMatcher(None, ultramer.reverse_complement()[-16:], expanded_sequence[leftend + 55:leftend+120]).get_matching_blocks()\n",
    "\n",
    "    try:\n",
    "        match_highest = left_matches[0]\n",
    "        for match in left_matches:\n",
    "            if match.size > 0 and match.b > match_highest.b:\n",
    "                match_highest = match\n",
    "        assert match_highest.a + match_highest.size == 16, 'soft_match hasn\\'t aligned whole ultramer segment'\n",
    "        return [leftend, leftend + 55 + match_highest.b + match_highest.size]\n",
    "    except:\n",
    "        pass\n",
    "        \n",
    "    if expanded_sequence.find(ultramer[-16:]) + 1:\n",
    "        rightend = expanded_sequence.find(ultramer[-16:]) + 16\n",
    "        right_matches = SequenceMatcher(None, ultramer[:16], expanded_sequence[rightend - 120:rightend - 55]).get_matching_blocks()\n",
    "    elif expanded_sequence.find(ultramer.reverse_complement()[-16:]) + 1:\n",
    "        rightend = expanded_sequence.find(ultramer.reverse_complement()[-16:]) + 16\n",
    "        right_matches = SequenceMatcher(None, ultramer.reverse_complement()[:16], expanded_sequence[rightend - 120:rightend - 55]).get_matching_blocks()\n",
    "    \n",
    "    try:\n",
    "        match_lowest = right_matches[0]\n",
    "        match_highest = right_matches[0]\n",
    "        for match in right_matches:\n",
    "            if match.size > 0 and match.b > match_highest.b:\n",
    "                match_highest = match\n",
    "        assert match_highest.a + match_highest.size == 16, 'soft_match hasn\\'t aligned whole ultramer segment'\n",
    "        assert match_lowest.size > 0, 'check match_lowest'\n",
    "        return [rightend - 120 + match_lowest.b, rightend]\n",
    "    except:\n",
    "        pass\n",
    "\n",
    "def delimit_insertion(platepath):\n",
    "    '''\n",
    "    This converts protospacers and ultramers designed against gene transcripts into gene coordinate, \n",
    "    which are to be fed into crispr-primer for primer design.\n",
    "    '''\n",
    "    ultramersdf = pd.read_excel(platepath, index = None)\n",
    "    \n",
    "    assert {'transcript','gene','protospacer','Ultramer'}.issubset(set(ultramersdf.columns)),'excel header columns should include \"transcript\",\"gene\",\"protospacer\",and \"Ultramer\"'\n",
    "    \n",
    "    \n",
    "    platedf = pd.DataFrame(columns=['sample','chromosome','ultramer_range_left','ultramer_range_right','bed_range'])\n",
    "    \n",
    "    for index, row in ultramersdf.iterrows():\n",
    "        if row['transcript'] == row['transcript']:\n",
    "            expand = 200\n",
    "            \n",
    "            transcript = row['transcript']\n",
    "            transcript = transcript.split()[0]\n",
    "            assert transcript[:4]=='ENST' and len(transcript) == 15, 'check transcript ID formatting'\n",
    "\n",
    "            well = row['well']\n",
    "\n",
    "            protospacer = row['protospacer']\n",
    "            protospacer = Seq(protospacer.upper(),IUPACUnambiguousDNA())\n",
    "\n",
    "            ultramer = row['Ultramer']\n",
    "            ultramer = Seq(ultramer.upper(), IUPACUnambiguousDNA())\n",
    "\n",
    "            record = fetch_ensembl_transcript(transcript)\n",
    "\n",
    "            chromosome, region_left, region_right = (record.annotations['reference_chromosome_number'], \n",
    "            record.annotations['reference_left_index'], record.annotations['reference_right_index'])\n",
    "\n",
    "            sequence = record.seq\n",
    "            expanded_sequence = fetch_ensembl_sequence(chromosome, region_left, region_right, expand)\n",
    "\n",
    "            #Note that expanded_sequence will always be in the direction of the reference genome, and has no\n",
    "            #bearing on the strandedness of the transcript. To retrieve that information, use \n",
    "            #record.annotations['transcript strand']\n",
    "\n",
    "            assert (protospacer in expanded_sequence) or (protospacer.reverse_complement() in expanded_sequence), f'{index} protospacer not found in transcript'\n",
    "\n",
    "\n",
    "            if -1 not in [expanded_sequence.find(ultramer[:25]), expanded_sequence.find(ultramer[-25:])]:\n",
    "                ult_range = [expanded_sequence.find(ultramer[:25]), expanded_sequence.find(ultramer[-25:])+25]\n",
    "            elif -1 not in [expanded_sequence.find(ultramer.reverse_complement()[:25]), \n",
    "                             expanded_sequence.find(ultramer.reverse_complement()[-25:])]:\n",
    "                ult_range = [expanded_sequence.find(ultramer.reverse_complement()[:25]), \n",
    "                             expanded_sequence.find(ultramer.reverse_complement()[-25:])+25]\n",
    "            else:\n",
    "                print(well, 'can\\'t find 25bp ends of ultramer, trying 16')\n",
    "                if -1 not in [expanded_sequence.find(ultramer[:16]), expanded_sequence.find(ultramer[-16:])]:\n",
    "                    ult_range = [expanded_sequence.find(ultramer[:16]), expanded_sequence.find(ultramer[-16:])+16]\n",
    "                elif -1 not in [expanded_sequence.find(ultramer.reverse_complement()[:16]), \n",
    "                                 expanded_sequence.find(ultramer.reverse_complement()[-16:])]:\n",
    "                    ult_range = [expanded_sequence.find(ultramer.reverse_complement()[:16]), \n",
    "                                 expanded_sequence.find(ultramer.reverse_complement()[-16:])+16]\n",
    "                else:\n",
    "                    print(well, 'can\\'t find 16bp ends of ultramer, looking for soft alignment')\n",
    "                    ult_range = soft_match(ultramer, expanded_sequence)\n",
    "            \n",
    "            \n",
    "            \n",
    "            \n",
    "\n",
    "            assert ult_range[1] - ult_range[0] in range(70,140), 'did we change the total length of homology arms?'\n",
    "\n",
    "            check_strand_consistency(well, expanded_sequence, protospacer, ultramer)\n",
    "\n",
    "            ultramer_range_left = region_left - expand + ult_range[0]\n",
    "            ultramer_range_right = region_left - expand + ult_range[1]\n",
    "\n",
    "            rowdf = pd.DataFrame([[well, chromosome, ultramer_range_left, ultramer_range_right, f'chr{chromosome}:{ultramer_range_left}-{ultramer_range_right}']],\n",
    "                                columns = ['sample','chromosome','ultramer_range_left','ultramer_range_right','bed_range'])\n",
    "            platedf = platedf.append(rowdf)\n",
    "            \n",
    "        #added to search for Jin protospacers\n",
    "        elif row['protospacer'] == row['protospacer']:\n",
    "            well = row['well']\n",
    "            \n",
    "            expand = 500\n",
    "            \n",
    "            protospacer = row['protospacer']\n",
    "            \n",
    "            query_results = fetch_gggenome_match(protospacer)\n",
    "            \n",
    "            protospacer = Seq(protospacer.upper(),IUPACUnambiguousDNA())\n",
    "            ultramer = row['Ultramer']\n",
    "            ultramer = Seq(ultramer.upper(), IUPACUnambiguousDNA())\n",
    "            \n",
    "            ult_range = []\n",
    "            for query_result in query_results:\n",
    "                if not ult_range:\n",
    "                    chromosome, region_left, region_right = query_result['name'], query_result['position'], query_result['position_end']\n",
    "                    assert 'chr' in chromosome, 'check gggenome output'\n",
    "\n",
    "                    expanded_sequence = fetch_ensembl_sequence(chromosome, region_left, region_right, expand)\n",
    "\n",
    "                    assert (protospacer in expanded_sequence) or (protospacer.reverse_complement() in expanded_sequence), f'{index} protospacer not found in transcript'\n",
    "\n",
    "                    if -1 not in [expanded_sequence.find(ultramer[:25]), expanded_sequence.find(ultramer[-25:])]:\n",
    "                        ult_range = [expanded_sequence.find(ultramer[:25]), expanded_sequence.find(ultramer[-25:])+25]\n",
    "                    elif -1 not in [expanded_sequence.find(ultramer.reverse_complement()[:25]), \n",
    "                                     expanded_sequence.find(ultramer.reverse_complement()[-25:])]:\n",
    "                        ult_range = [expanded_sequence.find(ultramer.reverse_complement()[:25]), \n",
    "                                     expanded_sequence.find(ultramer.reverse_complement()[-25:])+25]\n",
    "                    else:\n",
    "                        print(well, 'can\\'t find 25bp ends of ultramer, trying 16')\n",
    "                        if -1 not in [expanded_sequence.find(ultramer[:16]), expanded_sequence.find(ultramer[-16:])]:\n",
    "                            ult_range = [expanded_sequence.find(ultramer[:16]), expanded_sequence.find(ultramer[-16:])+16]\n",
    "                        elif -1 not in [expanded_sequence.find(ultramer.reverse_complement()[:16]), \n",
    "                                         expanded_sequence.find(ultramer.reverse_complement()[-16:])]:\n",
    "                            ult_range = [expanded_sequence.find(ultramer.reverse_complement()[:16]), \n",
    "                                         expanded_sequence.find(ultramer.reverse_complement()[-16:])+16]\n",
    "                        else:\n",
    "                            print(well, 'can\\'t find ultramer')\n",
    "            \n",
    "            assert ult_range[1] - ult_range[0] in range(70,150), 'did we change the total length of homology arms?'\n",
    "            \n",
    "            check_strand_consistency(well, expanded_sequence, protospacer, ultramer)\n",
    "\n",
    "            ultramer_range_left = region_left - expand + ult_range[0]\n",
    "            ultramer_range_right = region_left - expand + ult_range[1]\n",
    "            \n",
    "            chromosome = chromosome[3:]\n",
    "            \n",
    "            rowdf = pd.DataFrame([[well, chromosome, ultramer_range_left, ultramer_range_right, f'chr{chromosome}:{ultramer_range_left}-{ultramer_range_right}']],\n",
    "                                columns = ['sample','chromosome','ultramer_range_left','ultramer_range_right','bed_range'])\n",
    "            platedf = platedf.append(rowdf)\n",
    "            \n",
    "    return platedf\n",
    "        \n",
    "\n",
    "def check_strand_consistency(well, expanded_sequence, protospacer, ultramer):\n",
    "    '''\n",
    "    will print note if protospacer not on same strand as ultramer\n",
    "    '''\n",
    "    if protospacer in expanded_sequence:\n",
    "        break_strand = 1\n",
    "    else:\n",
    "        break_strand = 0\n",
    "\n",
    "    if [expanded_sequence.find(ultramer[:25]), expanded_sequence.find(ultramer[-25:])] != [-1, -1]:\n",
    "        ult_strand = 1\n",
    "    elif [expanded_sequence.find(ultramer.reverse_complement()[:25]), \n",
    "                     expanded_sequence.find(ultramer.reverse_complement()[-25:])] != [-1, -1]:\n",
    "        ult_strand = 0\n",
    "    elif [expanded_sequence.find(ultramer[:16]), expanded_sequence.find(ultramer[-16:])] != [-1, -1]:\n",
    "        ult_strand = 1\n",
    "    elif [expanded_sequence.find(ultramer.reverse_complement()[:16]), \n",
    "                     expanded_sequence.find(ultramer.reverse_complement()[-16:])] != [-1, -1]:\n",
    "        ult_strand = 0\n",
    "    if break_strand != ult_strand:\n",
    "        print(well, f\"strandedness inconsistent\")\n",
    "        \n",
    "\n"
   ]
  },
  {
   "cell_type": "code",
   "execution_count": null,
   "metadata": {},
   "outputs": [
    {
     "name": "stderr",
     "output_type": "stream",
     "text": [
      "INFO:__main__:Querying Ensembl for sequence of ENST00000353703\n",
      "INFO:__main__:Retrieved sequence chromosome:GRCh38:20:44885676:44908532:1 of length 22856 for species GRCh38 on strand 1\n",
      "INFO:__main__:Querying Ensembl for sequence of ENST00000571732\n",
      "INFO:__main__:Retrieved sequence chromosome:GRCh38:17:1344540:1400220:-1 of length 55680 for species GRCh38 on strand -1\n",
      "INFO:__main__:Querying Ensembl for sequence of ENST00000307630\n"
     ]
    },
    {
     "name": "stdout",
     "output_type": "stream",
     "text": [
      "A3 can't find 25bp ends of ultramer, trying 16\n"
     ]
    },
    {
     "name": "stderr",
     "output_type": "stream",
     "text": [
      "INFO:__main__:Retrieved sequence chromosome:GRCh38:7:76326794:76359031:-1 of length 32237 for species GRCh38 on strand -1\n",
      "INFO:__main__:Querying Ensembl for sequence of ENST00000248975\n",
      "INFO:__main__:Retrieved sequence chromosome:GRCh38:22:31944461:31957603:1 of length 13142 for species GRCh38 on strand 1\n",
      "INFO:__main__:Querying Ensembl for sequence of ENST00000238081\n",
      "INFO:__main__:Retrieved sequence chromosome:GRCh38:2:9583972:9631014:-1 of length 47042 for species GRCh38 on strand -1\n",
      "INFO:__main__:Querying Ensembl for sequence of ENST00000395958\n",
      "INFO:__main__:Retrieved sequence chromosome:GRCh38:8:100918577:100952129:-1 of length 33552 for species GRCh38 on strand -1\n",
      "INFO:__main__:Querying Ensembl for sequence of ENST00000303731\n",
      "INFO:__main__:Retrieved sequence chromosome:GRCh38:17:7930349:7931945:-1 of length 1596 for species GRCh38 on strand -1\n",
      "INFO:__main__:Querying Ensembl for sequence of ENST00000611091\n",
      "INFO:__main__:Retrieved sequence chromosome:GRCh38:17:5486374:5490808:1 of length 4434 for species GRCh38 on strand 1\n",
      "INFO:__main__:Querying Ensembl for sequence of ENST00000283351\n",
      "INFO:__main__:Retrieved sequence chromosome:GRCh38:18:31829173:31943100:-1 of length 113927 for species GRCh38 on strand -1\n",
      "INFO:__main__:Querying Ensembl for sequence of ENST00000334690\n",
      "INFO:__main__:Retrieved sequence chromosome:GRCh38:4:183659267:183713592:1 of length 54325 for species GRCh38 on strand 1\n",
      "INFO:__main__:Querying Ensembl for sequence of ENST00000291574\n",
      "INFO:__main__:Retrieved sequence chromosome:GRCh38:21:44012319:44106552:1 of length 94233 for species GRCh38 on strand 1\n",
      "INFO:__main__:Querying Ensembl for sequence of ENST00000359680\n",
      "INFO:__main__:Retrieved sequence chromosome:GRCh38:X:13712244:13734635:-1 of length 22391 for species GRCh38 on strand -1\n",
      "INFO:__main__:Querying Ensembl for sequence of ENST00000438773\n",
      "INFO:__main__:Retrieved sequence chromosome:GRCh38:8:139730343:140457744:-1 of length 727401 for species GRCh38 on strand -1\n"
     ]
    }
   ],
   "source": [
    "platedf = delimit_insertion('../mNG11 plate8.xlsx')"
   ]
  },
  {
   "cell_type": "code",
   "execution_count": null,
   "metadata": {
    "collapsed": true
   },
   "outputs": [],
   "source": []
  },
  {
   "cell_type": "code",
   "execution_count": null,
   "metadata": {
    "collapsed": true
   },
   "outputs": [],
   "source": []
  },
  {
   "cell_type": "code",
   "execution_count": null,
   "metadata": {
    "collapsed": true
   },
   "outputs": [],
   "source": []
  },
  {
   "cell_type": "code",
   "execution_count": null,
   "metadata": {
    "collapsed": true
   },
   "outputs": [],
   "source": []
  },
  {
   "cell_type": "code",
   "execution_count": 6,
   "metadata": {
    "collapsed": true
   },
   "outputs": [],
   "source": [
    "platedf.to_csv('../mNGplate8_SeqDesign/mNGplate8_primers_in.csv',columns=['sample', 'bed_range'], header = None, index=None)"
   ]
  },
  {
   "cell_type": "code",
   "execution_count": 43,
   "metadata": {},
   "outputs": [
    {
     "name": "stderr",
     "output_type": "stream",
     "text": [
      "INFO:__main__:Querying Ensembl for sequence of ENST00000638706\n",
      "INFO:__main__:Retrieved sequence chromosome:GRCh38:CHR_HG30_PATCH:179699753:179731798:1 of length 32045 for species GRCh38 on strand 1\n"
     ]
    },
    {
     "data": {
      "text/plain": [
       "SeqRecord(seq=Seq('ACTCAGGGGCCAGGGGCGGGCACAGGGCCGGGCTTCGTGCGGTGGGGCTCGCTC...GTC', IUPACUnambiguousDNA()), id='ENST00000638706', name='<unknown name>', description='chromosome:GRCh38:CHR_HG30_PATCH:179699753:179731798:1', dbxrefs=[])"
      ]
     },
     "execution_count": 43,
     "metadata": {},
     "output_type": "execute_result"
    }
   ],
   "source": [
    "fetch_ensembl_transcript('ENST00000638706')"
   ]
  },
  {
   "cell_type": "code",
   "execution_count": 55,
   "metadata": {
    "collapsed": true
   },
   "outputs": [],
   "source": [
    "platedf.to_csv('../mNGplate5_SeqDesign/mNGplate5_primers_in.csv',columns=['sample', 'bed_range'], header = None, index=None)"
   ]
  },
  {
   "cell_type": "code",
   "execution_count": 34,
   "metadata": {},
   "outputs": [
    {
     "name": "stderr",
     "output_type": "stream",
     "text": [
      "INFO:__main__:Querying gggenome for offtargets\n",
      "INFO:__main__:Querying gggenome for offtargets\n"
     ]
    },
    {
     "name": "stdout",
     "output_type": "stream",
     "text": [
      "[444, 587]\n",
      "D11 can't find 25bp ends of ultramer, trying 16\n",
      "D11 can't find ultramer\n"
     ]
    },
    {
     "name": "stderr",
     "output_type": "stream",
     "text": [
      "INFO:__main__:Querying gggenome for offtargets\n"
     ]
    },
    {
     "name": "stdout",
     "output_type": "stream",
     "text": [
      "[438, 581]\n"
     ]
    },
    {
     "name": "stderr",
     "output_type": "stream",
     "text": [
      "INFO:__main__:Querying gggenome for offtargets\n"
     ]
    },
    {
     "name": "stdout",
     "output_type": "stream",
     "text": [
      "[438, 581]\n"
     ]
    },
    {
     "name": "stderr",
     "output_type": "stream",
     "text": [
      "INFO:__main__:Querying gggenome for offtargets\n"
     ]
    },
    {
     "name": "stdout",
     "output_type": "stream",
     "text": [
      "[440, 583]\n"
     ]
    },
    {
     "name": "stderr",
     "output_type": "stream",
     "text": [
      "INFO:__main__:Querying gggenome for offtargets\n"
     ]
    },
    {
     "name": "stdout",
     "output_type": "stream",
     "text": [
      "[458, 601]\n"
     ]
    },
    {
     "name": "stderr",
     "output_type": "stream",
     "text": [
      "INFO:__main__:Querying gggenome for offtargets\n"
     ]
    },
    {
     "name": "stdout",
     "output_type": "stream",
     "text": [
      "[437, 580]\n"
     ]
    },
    {
     "name": "stderr",
     "output_type": "stream",
     "text": [
      "INFO:__main__:Querying gggenome for offtargets\n"
     ]
    },
    {
     "name": "stdout",
     "output_type": "stream",
     "text": [
      "[442, 585]\n"
     ]
    },
    {
     "name": "stderr",
     "output_type": "stream",
     "text": [
      "INFO:__main__:Querying gggenome for offtargets\n"
     ]
    },
    {
     "name": "stdout",
     "output_type": "stream",
     "text": [
      "[427, 570]\n"
     ]
    },
    {
     "name": "stderr",
     "output_type": "stream",
     "text": [
      "INFO:__main__:Querying gggenome for offtargets\n"
     ]
    },
    {
     "name": "stdout",
     "output_type": "stream",
     "text": [
      "[455, 598]\n"
     ]
    },
    {
     "name": "stderr",
     "output_type": "stream",
     "text": [
      "INFO:__main__:Querying gggenome for offtargets\n"
     ]
    },
    {
     "name": "stdout",
     "output_type": "stream",
     "text": [
      "[446, 589]\n"
     ]
    },
    {
     "name": "stderr",
     "output_type": "stream",
     "text": [
      "INFO:__main__:Querying gggenome for offtargets\n"
     ]
    },
    {
     "name": "stdout",
     "output_type": "stream",
     "text": [
      "[440, 583]\n",
      "[440, 583]\n"
     ]
    }
   ],
   "source": [
    "platepath = '../mNG11 plate 6.xlsx'\n",
    "ultramersdf = pd.read_excel(platepath, index = None)\n",
    "for index, row in ultramersdf.iterrows():\n",
    "    if row['transcript'] != row['transcript']:\n",
    "        if row['protospacer'] == row['protospacer']:\n",
    "            expand = 500\n",
    "            \n",
    "            well = row['well']\n",
    "            \n",
    "            protospacer = row['protospacer']\n",
    "            \n",
    "            query_results = fetch_gggenome_match(protospacer)\n",
    "            \n",
    "            protospacer = Seq(protospacer.upper(),IUPACUnambiguousDNA())\n",
    "            ultramer = row['Ultramer']\n",
    "            ultramer = Seq(ultramer.upper(), IUPACUnambiguousDNA())\n",
    "            \n",
    "            ult_range = []\n",
    "            for query_result in query_results:\n",
    "                if not ult_range:\n",
    "                    chromosome, region_left, region_right = query_result['name'], query_result['position'], query_result['position_end']\n",
    "                    assert 'chr' in chromosome, 'check gggenome output'\n",
    "\n",
    "                    expanded_sequence = fetch_ensembl_sequence(chromosome, region_left, region_right, expand)\n",
    "\n",
    "                    assert (protospacer in expanded_sequence) or (protospacer.reverse_complement() in expanded_sequence), f'{index} protospacer not found in transcript'\n",
    "\n",
    "                    if -1 not in [expanded_sequence.find(ultramer[:25]), expanded_sequence.find(ultramer[-25:])]:\n",
    "                        ult_range = [expanded_sequence.find(ultramer[:25]), expanded_sequence.find(ultramer[-25:])+25]\n",
    "                    elif -1 not in [expanded_sequence.find(ultramer.reverse_complement()[:25]), \n",
    "                                     expanded_sequence.find(ultramer.reverse_complement()[-25:])]:\n",
    "                        ult_range = [expanded_sequence.find(ultramer.reverse_complement()[:25]), \n",
    "                                     expanded_sequence.find(ultramer.reverse_complement()[-25:])+25]\n",
    "                    else:\n",
    "                        print(well, 'can\\'t find 25bp ends of ultramer, trying 16')\n",
    "                        if -1 not in [expanded_sequence.find(ultramer[:16]), expanded_sequence.find(ultramer[-16:])]:\n",
    "                            ult_range = [expanded_sequence.find(ultramer[:16]), expanded_sequence.find(ultramer[-16:])+16]\n",
    "                        elif -1 not in [expanded_sequence.find(ultramer.reverse_complement()[:16]), \n",
    "                                         expanded_sequence.find(ultramer.reverse_complement()[-16:])]:\n",
    "                            ult_range = [expanded_sequence.find(ultramer.reverse_complement()[:16]), \n",
    "                                         expanded_sequence.find(ultramer.reverse_complement()[-16:])+16]\n",
    "                        else:\n",
    "                            print(well, 'can\\'t find ultramer')\n",
    "            \n",
    "            check_strand_consistency(well, expanded_sequence, protospacer, ultramer)\n",
    "\n",
    "            ultramer_range_left = region_left - expand + ult_range[0]\n",
    "            ultramer_range_right = region_left - expand + ult_range[1]"
   ]
  },
  {
   "cell_type": "code",
   "execution_count": 28,
   "metadata": {},
   "outputs": [
    {
     "data": {
      "text/plain": [
       "[444, 587]"
      ]
     },
     "execution_count": 28,
     "metadata": {},
     "output_type": "execute_result"
    }
   ],
   "source": [
    "ult_range"
   ]
  },
  {
   "cell_type": "code",
   "execution_count": 7,
   "metadata": {
    "collapsed": true
   },
   "outputs": [],
   "source": [
    "if __name__ == \"__main__\" and '__file__' in globals():\n",
    "    \n",
    "    parser = argparse.ArgumentParser(description='Sequencing Design for CRISPR Knock In')\n",
    "\n",
    "    parser.add_argument('-f','--file-input', type=str, help='Plate design file containing ENST, protospacers, and Ultramers',\n",
    "                        action = \"store\", dest='platepath',default='../example_data/plate 4 mNG11.xlsx')\n",
    "    parser.add_argument('-o','--output-name', type=str, help='Name of sequencing plate, e.g. mNGplate1',\n",
    "                       action = \"store\", dest='outpath',default='mNGplate4')\n",
    "    args = parser.parse_args()\n",
    "    \n",
    "    platedf = delimit_insertion(args.platepath)\n",
    "\n",
    "    platedf.to_csv(f'{args.outpath}_ultramer_ranges.csv', header = ['Well','Genome Location'],columns = ['sample', 'bed_range'], index = False)\n",
    "    \n",
    "    print('launching instance')\n",
    "    ec2 = boto3.resource('ec2')\n",
    "    instance = ec2.create_instances(ImageId = \"ami-07eefcae164c8e6a2\",\n",
    "                                    KeyName='Jason.Li-key-pair',\n",
    "                                    InstanceType = 'c4.xlarge', \n",
    "                                    MinCount=1, \n",
    "                                    MaxCount=1)\n",
    "    \n",
    "    time.sleep(10)\n",
    "    status = 'null'\n",
    "    while status != 'ok':\n",
    "        response = ec2client.describe_instance_status(InstanceIds=[f\"{instance[0].id}\"])\n",
    "        status = response['InstanceStatuses'][0]['InstanceStatus']['Status']\n",
    "        print(status)\n",
    "        time.sleep(10)\n",
    "    \n",
    "    print('instance checks out!')\n",
    "    \n",
    "    PublicIP = ec2client.describe_instances(InstanceIds=[f\"{instance[0].id}\"])['Reservations'][0]['Instances'][0]['PublicIpAddress']\n",
    "\n",
    "    key = paramiko.RSAKey.from_private_key_file('/Users/jason.li/JasonLi-key-pair.pem')\n",
    "    client = paramiko.SSHClient()\n",
    "    client.set_missing_host_key_policy(paramiko.AutoAddPolicy())\n",
    "\n",
    "    # Connect/ssh to an instance\n",
    "\n",
    "    # Here 'ubuntu' is user name and 'instance_ip' is public IP of EC2\n",
    "    client.connect(hostname=f\"{PublicIP}\", username='ubuntu', pkey=key)\n",
    "\n",
    "    ftp_client=client.open_sftp()\n",
    "    ftp_client.put(f'{args.outpath}_ultramer_ranges.csv','./primers_in.csv')\n",
    "    ftp_client.close()\n",
    "    \n",
    "    print('ultramer range file transferred')\n",
    "    \n",
    "    cmd = '/home/ubuntu/anaconda/envs/python2/bin/python crispr_primer.py -f primers_in.csv -g hg38 -o primers_out.csv'\n",
    "    stdin, stdout, stderr = client.exec_command(cmd)\n",
    "    \n",
    "    ftp_client=client.open_sftp()\n",
    "    while True:\n",
    "        try:\n",
    "            status1 = ftp_client.stat('primers_out.csv')\n",
    "            status2 = ftp_client.stat('primers_out.csv.dropout')\n",
    "            print('found it!')\n",
    "        except IOError:\n",
    "            print('remote crispr_primer not done running')\n",
    "            time.sleep(15)\n",
    "            continue\n",
    "        else:\n",
    "            break\n",
    "\n",
    "    ftp_client.get('./primers_out.csv','mNGplate4_designed_primers.csv')\n",
    "    ftp_client.get('./primers_out.csv.dropout', 'mNGplate4_primer_dropouts.csv')\n",
    "    ftp_client.close()\n",
    "    \n",
    "    client.close()\n",
    "    \n",
    "    "
   ]
  },
  {
   "cell_type": "code",
   "execution_count": null,
   "metadata": {
    "collapsed": true
   },
   "outputs": [],
   "source": []
  },
  {
   "cell_type": "markdown",
   "metadata": {},
   "source": [
    "okay so for the case of FDPS, it looks like we need to extend the range of the sequence to find the corresponding primers"
   ]
  },
  {
   "cell_type": "code",
   "execution_count": 74,
   "metadata": {},
   "outputs": [
    {
     "name": "stderr",
     "output_type": "stream",
     "text": [
      "INFO:__main__:Querying Ensembl for sequence of ENST00000447866\n",
      "INFO:__main__:Retrieved sequence chromosome:GRCh38:1:155308794:155320609:1 of length 11815 for species GRCh38 on strand 1\n",
      "INFO:__main__:Querying Ensembl for overlaps of ENST00000447866\n",
      "INFO:__main__:Retrieved 10 exons and 9 coding regions for transcript ENST00000447866\n"
     ]
    }
   ],
   "source": [
    "sequence = fetch_ensembl_transcript(protospacersdf['transcript'][7]).seq"
   ]
  },
  {
   "cell_type": "code",
   "execution_count": 57,
   "metadata": {
    "collapsed": true
   },
   "outputs": [],
   "source": [
    "ultramer = Seq(protospacersdf['Ultramer'][7].upper(), IUPACUnambiguousDNA())"
   ]
  },
  {
   "cell_type": "code",
   "execution_count": 77,
   "metadata": {},
   "outputs": [
    {
     "data": {
      "text/plain": [
       "'ATCTGTCCCTCCCGCGGGCACATTGGGAGTTGTAGTCTAATTATATATTTCCGCCCTTAGTGTGGGGAGAGCGGGAACTACTCGACCCACAGAGCCGATCGCGGAGCGGATTCTGCTTTTAGGAGTACCCGCCAACAAGCGGGACCGAGCAGGAATCCGTATCTGGGAACAGGTGAGAGAGGATGTGTGCTGGGCCTTGGAGGAAGGGGGCCGAGACCGGGCCTTACTTCTGTAACGATACTGTGAGGCATCGGAAGGCCAGCCTGTTGTGTCCGTTTTGAAGGTCGGTGGGCTAGACTGGCTGGCCTTCTAGGGGTGTGGAGACTTCCCAACTCTGCCCTTGTGCTTTCCTGGAATCCCCAATATGCCCGGACCCCGGTTTACTCCTTTGCTGCGAGCCCTTCTCTCCCGTCCAGAGTTGCTCCGAGCCTATCTGCTCAGTCCTAGCGATTCCTGTGGGGCTTGGGACGCGCGGTTCAAGCACCCCGGACCATATGGATGCAGCACCCATGGGTTCTCGCTCCAATGCTTCTTTCCTCCTTGGGGCGTAACTCAGACCCTGGGCACCCCTCTCCACTGCCCAGGGGAGACCTGGGTTCTAGATTTGGCTCTGCCTCTACTATCTTCCTACCTCCTAGAGCCTCAGTTTGGCTTGTGTAAAATAGGATGACTTAAGGGTCCTTTCAGCCCCTAATCCTGGGGTACTTTACTCTGTACCGCCTCCTTACCCAGCCTTGTGCACGCCATCTTGAAGGCACTGAGTTCTAGCCTGTTTATTGTAAGTGGTGATTAGTTGGGTCTCAGTCACCCAGCCATACTTTTTTGTTCCCTGCGTATCCTTCCTGTAATTGTCCCCAAGCACATTCCACAAGAGGGAGGGGCACTCTGGGCTAAGGCTGGGGTGGGAGTTATCTGGGGAGCTGCCACCATGCCTCTGCCTTTGGTGCTTGCCCCTGCAGGGAGTGCTTAGTGCCCCCTCCCTATGCCACTCCCAGGATGCCCCTGTCCCGCTGGTTGAGATCTGTGGGGGTCTTCCTGCTGCCAGCCCCCTACTGGGCACCCCGGGAGAGGTGGCTGGGTTCCCTACGGCGGCCCTCCCTGGTGCACGGGTACCCAGTCCTGGCCTGGCACAGTGCCCGCTGCTGGTGCCAAGCGTGGACAGAGGAACCTCGGTGAGTGTGGTTGGGGTGAGGGGCCTTGGGGAGGGGAGCAGCTGATCAGGTTTCTGACTTGTTTTTCTTCTACTTAGAGCCCTTTGCTCCTCCCTCAGAATGAACGGAGACCAGAATTCAGATGTTTATGCCCAAGAAAAGCAGGATTTCGTTCAGCACTTCTCCCAGATCGTTAGGGTGCTGACTGAGGATGAGATGGGGCACCCAGAGATAGGAGATGCTATTGCCCGGCTCAAGGAGGTGAGGGATTCATGACTTGGGGGAGTAAGGCTTTGGTTCAGTTGCTCTGTACCTGTGTGGCATTCACCTGTGGCTTATGGGGGACTTTTGACAGATGTGAGAGAAAGCTTTTTTTTTTTTTTTGAGACAGAGCCTTGCTCTGTCACCTGGGCTGGAGTGCGATGGTGTGATCTCGGCTTGCTGCAACCTCCACCTCCTGGGTTCAAGTGATTCTCCTGCCTCAGCCTTCTGAGTAGCTGGGATTACAGGTGCGTGCCACCACATCCAGCAAACTTTTGTATTTTTAATAGAGACGGGGTTTCACTGTGTTGACCAGGCTGGTCTCGAACTCCTGACCTCAGGTGATCCACCCACCTCGGCCTCCCAAAGTGCTGGGATTACAGGTGTGAGCCACCGCGCCTGGCCGAGAAAGCTTTTACCTGAGGGACTCGAGTCTGCTCTGGAGAGGTTGGGGCCTGGGCAAGTATACTTACTCAGTCCATCAACCGGACTTTTGGCTCTGATGGAAGGTGGGTCATCCAAACTGCTTTGCTTTGGGGGTGGAGGCCTTGAACCTGGCAAGTCTTAGATTTTGTGTCCTGAAATCAGAAGCTGTTAGGTTGGCAGAGACCGGGGAAGAAGGCAGTCTGATATTGTCCTATCTCCCTGGGGCCTGAGTGAAGTTATTGTATCATTAGAAACCCCTATTCTAGAACATGAACTATTGCTGTGATACTTGCCAATTTTTTTCCTGTTGATTCTGGAGTATCTATTAAAATTCTTTTTATAAATGCTGTCTATCTCATATATCTCAGGGGAATGAAGGGAAAGGGGGGCTTTGCCTATACTGGAATGGGGATTAAAAGAGTCTTGGCCCGGCATGGTGGCTCACGCCTGTAATCCCAGGACTTTGGGAGGCTGAGGTGGGGGGGATCATGAGGTCAGGAGTTCGAGACCAGCCTGGTCAACATGGTGAAACCCCCGTCTCTACTAAAAATACAAAAATTAGCTGGGCGTGGTGGCGCCCACATGTAGTCCCAGCTACTCAGGAGGCTGAGGCAGGAGAATCACTTGAACCTGGGAGGCGGAGGTTGCAGTGAGCCGTGATTGTGCCACTGCACTCCAGCCTGAGTGACATAGCGAGATGAAGTCTTCCCTGTTAGTTAGGTCTGATTGATAGCCAGGCAGCAGAAGGCAAAGTGAGATGCAAGAGGAGACACTACTGGAGGAGTGGGAGATGGATCCCACAGCGTGGGTCCCCTGTAAGCTGTCTTCTGGCTGACTTTGGAGAGGCTTTGTTTTAATATAATGAAGGAGGCTTTTCATTTGCAGGAGGGTTGAACCCTGGTAGGCAGAGGTGGCTGGAAAAGTAGGGATGGGTTGTGAAGGGGAAGTCTAGGAGAGGTGGGGATGGGGAAGGAAACTGGGGAGGGACCTGAACAAGCCAGTCATCCCTATAGCATGTACTGAGTTTTCCGTGGGTTCAAGCCCTGTTCTGGGTTTGGGAGCAGCATTTAATCTGCACTATGGAGGTTTTAAATTTATTGGGAGGCCAAGGCGGGTGGATGACTTGAGGTCAGTAGTTCGAAACCAGCCTAGCCAACATGGTGAAACTCTGTCTCTACTAAAAATACAAAAATTAGATGGGCATGGTGGTGGGCACCTGTAATCCCAGCTACTCGAGAGGCTGAGCCAGGAGAATTTCATGAACCCGGAGACAGAGGTTGCAGTGAGCCAAGATCGTGCCACTGCACTCCAGCCTGGGTAACAGAGAGAGAATTCATCTCAAAAAAATAAATAAATAAATAAATAAATAAAAACAAAAAATAAATTTACTAGGGTAGACCATGCAGAAAGAATGTGCCTGGGTACTGGGACCTCTTCTAGCTTTGCTCCAGAAATTTGGGGAAGGAGTAAAGACAGTAGCAATTCCAGAGGCTCCTTGAAGAGGAGTTGGGGTTGGGGAGGATAAAGTTAGGTGGTGGTTGGAAATGGGAGAGAGCAAGGAGAAAACTCACAGTAGCTGCTGTATGGACCCTGATACCCTGTACCTCTTTCCTTGCCCTCCAGGTCCTGGAGTACAATGCCATTGGAGGCAAGTATAACCGGGGTTTGACGGTGGTAGTAGCATTCCGGGAGCTGGTGGAGCCAAGGAAACAGGATGCTGATAGTCTCCAGCGGGCCTGGACTGTGGGCTGGTGTGTGGAACTGGTGAGAGGGGTAGGGCAAGGGAGAAGAAGTTTCCTGCAATGGTGGTGACTTGGGTGGGAAGGGGAGGGATGGGCCTGAAACTTATTTCTGGGTTGTGTTTGTGTTTCTTTGTCTCTAGTGTGCTACGGCCAAATTTAGAGTGAATCACTCCAAGGGTTAACTAATGTGGGGAGCCTCTTTTGGCATTAGGTATGAAGATGGCTGTAGATAGTTGTAGACAGTGTGGACTGGGGCCTCGAGACTGGGCAGAGAGGTGTCAGCTCTTTCCTCTGAGCAGAGGATGGCTATAAAAGTGACAGAGGAGGCCGGGCATGGTGGCTGACACCTGCAATCCCAGCACTTTGGGAGGCCAAGGGGGAGGATCATCTGAGTTCTGGAGTTCGAGACCAGCCTGACCAACATGGAGAAACCCCATCTCTACTCAAAATACAAAGTTAGCTGGATGTGGTGGCACATGCCTGTAATCCCAGCTACTCGGGAGGCTGAGGCAGGAGAATCGCTTGAACCTGGGAGGCAGAGGTTGCGATGAGCTGAGATTGCACCATTGCACTCCAGCCTGGGCAACAACAGCGAAACTCCATCTCAAAAAAAAAAAAAAAAAAAAAGGTGACAGAGGTCTTCCAAAGGCTATTCAGAAGCAGAAATTGAAAACTGGCAGCTCACTGACAGTATTTTGAAAATGTTTTACAATTAAGTCTCCTAAATTTAACAAAGAGATTTCACACTAAAACCTAGATTTCTAGCATGGCTTGGGAAATTGTAAGATTTGGGTCCATGTTCCCGCATAGCAACAATTGGCTGAAGCTGAGTGGATGCAACTTCTGCAAGACGGCATGTGTTCTCCTGTGTGCTTTCTCTAGTTTGCTCCAATCCCCACATCCCCTTGTCTTCTATACCAGTTCGTCTTGGTCTTGAAGGTGTCTAGTTTGCTGGCATGGCCTAAAGCTTTCATTAGTGGCAGGGGGACTGGGTTCTGGGAGGGGTGCCATGCCCGAGGAGGGTGGCAGTGAGCCCAAAAGGGAAGAGCATTCAGAACTTGGTGAGTGACGATGATGCTGAGTGCCTGGCCTGAGAGGAGCAGCTGGCTCAAGGGAAGACGTGCTGAGCACAGTCAGCCCGGGTACGTTCTTGGTATGGGTGGAGCAGGTGGATCTGCCTGTCCTGTGGGCGGTGGAAATTCCAGTCTGGAACTTGTCGGGGAGATGGGTCTGGAGAATAGAGATTTGCTTCCAAGGAGGTAATAGGCCCATGGCATCCAGGGAGAGGGCCCTGGATGACAGGGATGCTGAGGGGCTGAGGGGTTCAAAATATGGAGATGACAGGCAAGGAAGGAAGGGAAGGAGGATGAGGGCAGAGCAGAGGAGTAAAGCTATGGGGGCCAAGGGAAGCAAGACCTTGAGGGGCCAGTGGTTAACTGGTAGAATCAGTTCATTTTTTTTTTGAGATGGAGTCTCTCTCTGTTGCCCAGGCTGGAGTGCAGTGGCACCATCTTGGCTCACTGCAACCTCTGCCTCCCAGGTTCAAGCAATTCTCCTGCCTCAGTCTCCTAAGTAGCTGGGATTATAGGCACATGCCACCATCCCTGGCTAATTTTTGTATTTTTAGTAGAGACGGGGTTTCACCATATTGGTCAGGCTGGTCTGGAACTCCTGACCTTGTGATCCATCTGCCTCGCCCTCCTAAAGCGCTGGGATTACAGGCGTTACAGGTGTGAGCCACTGCACCTGGCCTAGAATCAGTTCTTAACCCTAGCAGCACCCTAGTTTCACCTGTAAGTTTTTAAAAATTTTTAATTTTTTTTTTTTTTTGATACAGGGTCTTACTCTGTTACCCAGGCTGGAGTGCAGTGGCATGATCTTGGCTCACTGCAATCTCTGCCTCTGGAGCGGAAGCCACCCTTCCACCGCCTCAGCCTCCCAAGTAGCTGAGACTACAGGAGCGAGCCTCTACTTGGCTTTTTTTTTTTAGAGACTAGGTTTCACCATGTTGCTGAGGCTGGTCTTGAACTTGTGGCATCGAGTGATCTGCCCATCTCGGCCTCCTAAAGTGTTGGGATTACAGGCGTGAGCCACCACGCCTGGTCTAAATTTTTTTTTAGAGACAAAGCCTCATTCTGTTGCCCAGGCTTGAGTGTAGTGGTGCAATCATGGTGTACTGTAGCCTCGACCTCCTGGGCTCAAGCGATCCTTCCACCTCAGCCTCCCAAGTAGCTGAGACTACAGGTGCCTACCACCACGCCCGGCTTTTTAAATAGTTTTTTGGTAGAGATGGAGTGTCACTATGTTGCCCAGGCTGGTCTTGAACTCCCGGGCTCAAGTGATCTGCCTGCCTCGGCCTCCCAGAGTACTGGGATAACAGGTGTGAGCCACTGTGCCTGGCCTGGGTTTTTTTTTTTTTTTTAATTTCCCTAATAAATAGAAAGTGCTGGTGGGGTTAAGAATCAGTGCTAGGAGGCAGAGGAAATTTGGGGAGGCCATGGAATTAATTATCTTGGAGACCATCATGGTTGAGTGGTGGTGGCTGAAACAAGATTGTCCTTGCAGTCACCCTTGGGAGAGGCAGTGAATGGGTGGCTTCAGGGAAACCATGCTACTCCAAATAAACACAGAGTCAATTAAACATGTGCCTTTGATGTGGAAAGCCCAGGACCTCCACACTACTCTTCTGAGTTTAGGTCAGAGGTAAAGATGCAGATGGATGCCTCCTTCCCTGAGGACCCTGCCTATAACAGCAGTGATTGCAACGGTCCTTTCCCCACGGCCCATGCTGGGCTCTGGCAGGCGGTGTTGCATGCTTCCTTTGCAATGTGGATCCACTACAGCACACAGGATTAGGATGGGATAAAGTCTTAAAAACCATGTCTTCTAGGCCAAGTGTAGTGGCTCATGCCTGTAATCCCAGCACTTTGGGAGGCTGAGGCAGGTGGATCACCTGAGGTCAGGAGTTCGAGACCAGCCTGACCAACATGGGGAAACCCCATCTCTACTGAAAATACAAAATTAGGCTGGGCGCAGTGGCTCATGCCTGTAATCCCAGCACTTTGGGAGGCTGAGGCGGGCGGATCATGAAGTCAGGAGATCGAGACCATCCTGGCTAACATGGTGAAACCCCGTCTCTACTAAGAATACAAAAAAAATATTAGCCGGGCATGGTGGCAGGCGCCTGTAGTCCCAGCTATTTGGGAGGCTGAGGTAGGAGAATGGCGTGAACCTGGGAGGCGGAGCTTGCAGTGAGCTGAGATTGTGCCACTGCACTCCAGCCTGGGCAACAAGAGCGAGACTCTGTCTCAAAAAAAAACAAAAAACAAAAAACAAAAAAAAAATTAGCCAGGCGTGGAGGCACATGCCTATAATCCCAGCTACTCAGGAGGCTGAGGCAGGAAAATCGCTTGAACCCGGGAGGCGGAGGTTGCAGTGAGCCAAGATCGCGCTATTGCACTCCAGCCTGGGCAACAAGAGCGAAACTCCATCTCAAAAAAAAAAAAACACACAAACCATGTCTTCTGCTCAAGCCTGGGTGACAGAGTGAGATCCTGTCTCAAAAGAAAATAATAATAAAAATTAAAACCTGGGTATAGGGCCGGGTGCATTGGCTCACACTTAAAATCCCAGCACTTTGGGAGGCCAAGGTGGATGGATCACGTGAGGTCAGGAGTTCGAGACCAGCCTGACCAACATGGTGAAACCTTGTCTCTACTAAAAACACAAAAATTAGCCGGGTGTGATGGCACGTGCCTGTAATCCCAGCTACTTGGGAGGCTGAGGCAGGAGAATCGCGTGAACCCGGGAGGCGGAGGTTGCAGTGAGCCGAGATTGCGCCATTGCACTCCAGCCTGGACAATGAGAGTGAAACTCCATCTCAAAAACAAAAACCTGGGTATGTATCTAGAAGTGGAAAAACAAAAAAAGGAAATAAGTTATGAAAATAAAAACCATGTCTTGAGCTGGGTGCGCTGGTGTGTGCCTATATCCCTAGATTCTCAAGAGTTGAGACAGGAGGATCACTTGAGCCCAGGAGTTCAAGTCCAACTTGGGCAACATGACAAGACCCTTGTCTCTTTAAAAAAGCAACCCAAACCATGTCTTGAAAAGCTATTTAATGGTCAGACACGATGGCTCACGCCTGTAATCCCAGCACTTTGGGAGGCCGAGGCAGGCGGATCACTTGAGGTCAGGAGTTCAAGACCAGCCTGGCCAACATGGCAAAACCCAGTCTCTACTGAATGAAAATACAAAAATTAGCTGGCCTAGCAGTTGGTGGTGGCAGGTGCCTGTAGTCCCAGCTACTTGGGAGGCTGAGGCAGGAGAATCGCTTGAATTTGGGAGGCGGAGGTTACAGTGAACCCACATGGCGCCACTGCACTCCAGCTTGGGTGATAGAGTGAGACTCTATCTCAAAAAAAAAAAAAAAGAAAAGCTATTTAAGGAACCAAAACATAGTTTGACTGACTGCAAGAAGTATCACAGGGAATGTTAGAGTGTTTTATTAATTTCTTTGTCAGACAAGTGTTTAGGAAACTCTCACTCCAGGCCTAATGCTGTGCTAGGCTCTGCAAATGCTAAGAGGGGGAAGTTACTGTCCCTGCTTCCAAGGAGATCATGGTCTAGTGGGAAACCCGACACGTTCAGGTACCTTCAGATGGGCACTCAGAAGAGTAAGCCCTTAGTTAATGTTTAAAGATGTTTAAAGATGTCTGAGACTCATAGGTCAAAGTCAGATTTCAGTTCCACCTTATTAGACCTGCACTGCTAAGGAGCTGCTTTAGGTAAGGCTGTGTTCCTAGTCACCAGGGTGTTCAAACACAGTGCTGGGGGCAATGTGGGAATAGCCTTCTTTTATTTAGGAAGTAATGTGAAGTCAGTTTCATGAATAGATCTTACTTTAAGCATTCATTGAGGTTTTTGGCAAGAATAGAGTACGGTATATGAAGGTGTTTCCTAATCTCCCTGACACCAGGAATAATCTAGGGCTCATTAGAGATGTCAAAGATCTGTTCTAGTTTCTTAACCTAAAACAAGAGTGTTTTAGTTCCATTTTATAGGCGGGGAGTCTGAGCCAAACATGTTATGTCACTTTCCAAGTCTCCATAGCACAGAAGTCTTCTGTCTCCCCATCCTGACTTTCCCAGCTCATAGGGACTGTCAAAGGCAGCAGCTCTGGCCGGCTGTGATGCCTCATGCCTGTAATCCCAGTAATTTGGGAGGCTGAGGCAGGAGGATCATTTGAACCCAGGGGTTCAAAACCAGCCTGAGCAACATAGTGGGACCCTGTCTCTACAAAAAATAAATTAAAAAAAAAAAATAGCCAGGCATGGGGTATGTGCCTATGGTCTCAGGAACTCAGGAAGCTGAAGTGGGAGGATCACTTGAGCCTGGGAGTTAGAGGCTACAGTGAGCTGTGACTGCACCACTGCACTGGATAATAGTGAGACTCTGTCCCCTACCAAAAAAAAGCAAAACTATATACAGATATAAAGTAGCAGCTCTGTTGCTGATAGAAGGAACAGTAATGAGGAGCCCTGCAGGTCTTATTCCACTCTTTCTAGCTGCAAGCTTTCTTCCTGGTGGCAGATGACATCATGGATTCATCCCTTACCCGCCGGGGACAGATCTGCTGGTATCAGAAGGTAATGTGGGCAGGAAAATAGCAGTGGGTATGGGGACAGGCCACAGGGAGGTGGTTATATATGGCCTGGTTGAGGTGTTGGGGTGATGGCTCTTAGTATGAACCGAGACTAGAGATTGATTGCTTGTTTTTCTGTCTGTCATGACAGCCGGGCGTGGGTTTGGATGCCATCAATGATGCTAACCTCCTGGAAGCATGTATCTACCGCCTGCTGAAGCTCTATTGCCGGGAGCAGCCCTATTACCTGAACCTGATCGAGCTCTTCCTGCAGGTGTATTGCAGACAGGGCCCGATGCCCAGAGGGTGCCCATGGTAGCCTTGGCCTCTATAGGACATGCTCATCTAGCTGGTTTCAGGGTACAGGATTGCAGCGTGCCTGGAAGGGAAAGAAAGCGAGGAAGGGTGTTGGGAAGTGGGGTTGTGGTAGTGGCAAGAAAGGGCTTCTCTGTCCTGTGTAATTGGAAGAAAGGGTGATAAAGGACTGTGTGTATGAATATGGGCCTTAAGTTTTGGGGCTTTCTCCCCTTCTGTTGCCTTTCTGATTCTGCCCAGTTGTCAGCTGGTATGGGATGTTGGGCTTGGGATACCAGGGTTTCGCATATCTGGAGAAAGCCTGGCTCATGGACCGTCTTTGTCTTGCTTAGAGTTCCTATCAGACTGAGATTGGGCAGACCCTGGACCTCCTCACAGCCCCCCAGGGCAATGTGGATCTTGTCAGATTCACTGAAAAGAGGTGAGGGGAGGTGAGGGACAGCGCGAACCATGTCTGGACAGCGAGGGAGGGCTCAGGATGTGCATTGCCCTCCTGAGGAGTTTCTCTTCTCCCCTTACTCAGGTACAAATCTATTGTCAAGTACAAGACAGCTTTCTACTCCTTCTACCTTCCTATAGCTGCAGCCATGTACATGGTGAGTGAGCCTCCTCACCCCTCTCTGCTCTGCTGATGGGGGCTTTTGGACAGCAAGGCATAGAGCAGAAAACGTGAACACTGCTACCCCTGGTGAAAAACTGTGTGACCTTGAGCAAGTCGGTCTCGCTCAGTCTCTTTCCTCAGCTGGGGATAAAATTCCTACTTCACAGGACTGTAAAGATTAAGCAAGGCAAGGGATATGAAAGTGCTTAGCACATAATAGGGGAACAATATATCCTGTATCTGAGTATGGATAGGAGTGTGGAGATCATCCAGGTTGAGAGGGAGAAGAGTGGATTAAAGACAGTCAGTGGGATTAAGTGTCTACCCTGACCTTGCTTCTCTACATTTCCTTTTCATCTTGAAAGAAGTTGGAGGTGGCAAAAATATTAGGAAGGTGGATCAGAATGACTTGGGGACTGACATTTGTGAGGGAAGAGACAGGCTGTGCACCTCTAGAATGGATTCATCTCTTTTATGACTCCCAGGAAGGCCTAGCCAAAAATAAGTGGGATTGAGGTTGGACCATCAGTCAGGACTGTCTAGGTCAGGGAAGCCAAGATGTCTGAAGAGAGAGGAAAGATTTGGGGCTGCAGTAGGGCAAGACCCCATGGGAGGAAGCAGCCAGGAAGATGCCGGCACCCCTGGGGTTTGGCTTATTAACCCCCCTTTCCCTGCAGGCAGGAATTGATGGCGAGAAGGAGCACGCCAATGCCAAGAAGATCCTGCTGGAGATGGGGGAGTTCTTTCAGATTCAGGTAAGAAGGCAGGAGGCAGTAGCAGAGAACAGGCACCAGCTTCACTCCTCCTCTGCCCAGGAACCTCATCCTTCCTCTTTTGCTGCCCTCCCCCTCCCTGCCCAGGATGATTACCTTGACCTCTTTGGGGACCCCAGTGTGACCGGCAAAATTGGCACTGACATCCAGGACAACAAATGCAGCTGGCTGGTGGTTCAGTGTCTGCAACGGGCCACTCCAGAACAGTACCAGATCCTGAAGGTGCCTGAGAGAGGGTGGTGGGTCCCTGAGTTGGTGGAAAGGGATAGAGCAGTGGTTCTCAACTAGAGGCAGTTTTCCTCCCGAGGGGACATTTGGCAATGTCAGCAGACATTTTTTGCCATTGTCATTACAACTCTGTGTGTGTGCATGTGGTACAGACATCTAGTTGGCAGGAGCCAAAGATGTTGCCAAACATGTAGTACACAGAACAGCTCCCCCAGACAGGATTATCTGGTCCCAAATTTCAATAGTGCCAAGGTGGAGAAACCCTGGAGTAGAGGATGCCTGGTATGAGGCAATATTTGGGATAGGGAAGGGAAGCTTGGGATTTTAGCTACGTAGAGACACTTGAAAATTGGAGGGAGGAAAGGAGTGGGTGGCTTTGGAGATGTTCTGGAATATGTGAATGAGGGGAGTGGAGGGGTCCTGGAGGCTCTGGGGAAGGCCAAGCCCGTTTTCCTGTCTTTCAACCTCTTCCAGGAAAATTACGGGCAGAAGGAGGCTGAGAAAGTGGCCCGGGTGAAGGCGCTATATGAGGAGCTGGATCTGCCAGCAGTGTTCTTGCAATATGAGGAAGACAGTTACAGCCACATTATGGCTCTCATTGAACAGTACGCAGCACCCCTGCCCCCAGCCGTCTTTCTGGGGCTTGCGCGCAAAATCTACAAGCGGAGAAAGTGA'"
      ]
     },
     "execution_count": 77,
     "metadata": {},
     "output_type": "execute_result"
    }
   ],
   "source": [
    "str(sequence)"
   ]
  },
  {
   "cell_type": "code",
   "execution_count": null,
   "metadata": {
    "collapsed": true
   },
   "outputs": [],
   "source": [
    "u"
   ]
  }
 ],
 "metadata": {
  "kernelspec": {
   "display_name": "Python 3",
   "language": "python",
   "name": "python3"
  },
  "language_info": {
   "codemirror_mode": {
    "name": "ipython",
    "version": 3
   },
   "file_extension": ".py",
   "mimetype": "text/x-python",
   "name": "python",
   "nbconvert_exporter": "python",
   "pygments_lexer": "ipython3",
   "version": "3.6.1"
  }
 },
 "nbformat": 4,
 "nbformat_minor": 2
}
